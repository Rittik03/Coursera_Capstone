## This Notebook is mainly used for the capston project
import pandas as pd 
import numpy as np 
print('Hello Capstone Project Course!')


